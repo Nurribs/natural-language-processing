{
 "cells": [
  {
   "cell_type": "code",
   "execution_count": 1,
   "id": "06cb3dd2",
   "metadata": {},
   "outputs": [],
   "source": [
    "import nltk\n",
    "from nltk import pos_tag\n",
    "from nltk.probability import FreqDist\n",
    "from nltk.corpus import stopwords\n",
    "from nltk.tokenize import word_tokenize\n",
    "import re\n",
    "import pandas as pd\n",
    "import numpy as np\n",
    "import seaborn as sns\n",
    "import matplotlib.pyplot as plt\n",
    "%matplotlib inline\n",
    "\n",
    "import string \n",
    "import openpyxl"
   ]
  },
  {
   "cell_type": "code",
   "execution_count": 2,
   "id": "f25c06d5",
   "metadata": {},
   "outputs": [],
   "source": [
    "data_file=pd.read_excel('first_data.xlsx')"
   ]
  },
  {
   "cell_type": "code",
   "execution_count": 3,
   "id": "4f7a4726",
   "metadata": {},
   "outputs": [],
   "source": [
    "sentences = data_file['text'].str.split('.').explode().str.rstrip('\\n')"
   ]
  },
  {
   "cell_type": "code",
   "execution_count": 4,
   "id": "01d2b172",
   "metadata": {},
   "outputs": [],
   "source": [
    "df = pd.DataFrame({'sentence': sentences})"
   ]
  },
  {
   "cell_type": "code",
   "execution_count": 5,
   "id": "d3d112a2",
   "metadata": {},
   "outputs": [
    {
     "data": {
      "text/html": [
       "<div>\n",
       "<style scoped>\n",
       "    .dataframe tbody tr th:only-of-type {\n",
       "        vertical-align: middle;\n",
       "    }\n",
       "\n",
       "    .dataframe tbody tr th {\n",
       "        vertical-align: top;\n",
       "    }\n",
       "\n",
       "    .dataframe thead th {\n",
       "        text-align: right;\n",
       "    }\n",
       "</style>\n",
       "<table border=\"1\" class=\"dataframe\">\n",
       "  <thead>\n",
       "    <tr style=\"text-align: right;\">\n",
       "      <th></th>\n",
       "      <th>text</th>\n",
       "    </tr>\n",
       "  </thead>\n",
       "  <tbody>\n",
       "    <tr>\n",
       "      <th>0</th>\n",
       "      <td>Sezen psikoloji bozar sefoyla devam</td>\n",
       "    </tr>\n",
       "    <tr>\n",
       "      <th>1</th>\n",
       "      <td>Psikolojisi bozuk mimarlık okuyan kız  psikolo...</td>\n",
       "    </tr>\n",
       "    <tr>\n",
       "      <th>2</th>\n",
       "      <td>Birine egosunu yanlış kullandığıyla alakalı bi...</td>\n",
       "    </tr>\n",
       "    <tr>\n",
       "      <th>3</th>\n",
       "      <td>Beklemek...</td>\n",
       "    </tr>\n",
       "    <tr>\n",
       "      <th>4</th>\n",
       "      <td>Çocuklar ölmesin. Masumlar ölmesin.\\n\\n#Strike...</td>\n",
       "    </tr>\n",
       "    <tr>\n",
       "      <th>...</th>\n",
       "      <td>...</td>\n",
       "    </tr>\n",
       "    <tr>\n",
       "      <th>13362</th>\n",
       "      <td>4⃣ Motivasyonumuzun düştüğü zamanlar elbette k...</td>\n",
       "    </tr>\n",
       "    <tr>\n",
       "      <th>13363</th>\n",
       "      <td>Kesinlikle! Acil! Hemen! Derhal!\\nDevlet bedav...</td>\n",
       "    </tr>\n",
       "    <tr>\n",
       "      <th>13364</th>\n",
       "      <td>PSY 432 dersi kapsamında mizaç ve karakter ile...</td>\n",
       "    </tr>\n",
       "    <tr>\n",
       "      <th>13365</th>\n",
       "      <td>Kesin olarak bu böyledir de dememiş zaten.. sö...</td>\n",
       "    </tr>\n",
       "    <tr>\n",
       "      <th>13366</th>\n",
       "      <td>Toplum içine karışamazsın gündüz işlerini yapa...</td>\n",
       "    </tr>\n",
       "  </tbody>\n",
       "</table>\n",
       "<p>13367 rows × 1 columns</p>\n",
       "</div>"
      ],
      "text/plain": [
       "                                                    text\n",
       "0                    Sezen psikoloji bozar sefoyla devam\n",
       "1      Psikolojisi bozuk mimarlık okuyan kız  psikolo...\n",
       "2      Birine egosunu yanlış kullandığıyla alakalı bi...\n",
       "3                                            Beklemek...\n",
       "4      Çocuklar ölmesin. Masumlar ölmesin.\\n\\n#Strike...\n",
       "...                                                  ...\n",
       "13362  4⃣ Motivasyonumuzun düştüğü zamanlar elbette k...\n",
       "13363  Kesinlikle! Acil! Hemen! Derhal!\\nDevlet bedav...\n",
       "13364  PSY 432 dersi kapsamında mizaç ve karakter ile...\n",
       "13365  Kesin olarak bu böyledir de dememiş zaten.. sö...\n",
       "13366  Toplum içine karışamazsın gündüz işlerini yapa...\n",
       "\n",
       "[13367 rows x 1 columns]"
      ]
     },
     "execution_count": 5,
     "metadata": {},
     "output_type": "execute_result"
    }
   ],
   "source": [
    "data_file"
   ]
  },
  {
   "cell_type": "code",
   "execution_count": 6,
   "id": "7ca8aee4",
   "metadata": {},
   "outputs": [],
   "source": [
    "df.to_excel('new_data1.xlsx', index=False)"
   ]
  },
  {
   "cell_type": "code",
   "execution_count": 7,
   "id": "3cf7f581",
   "metadata": {},
   "outputs": [
    {
     "data": {
      "text/html": [
       "<div>\n",
       "<style scoped>\n",
       "    .dataframe tbody tr th:only-of-type {\n",
       "        vertical-align: middle;\n",
       "    }\n",
       "\n",
       "    .dataframe tbody tr th {\n",
       "        vertical-align: top;\n",
       "    }\n",
       "\n",
       "    .dataframe thead th {\n",
       "        text-align: right;\n",
       "    }\n",
       "</style>\n",
       "<table border=\"1\" class=\"dataframe\">\n",
       "  <thead>\n",
       "    <tr style=\"text-align: right;\">\n",
       "      <th></th>\n",
       "      <th>sentence</th>\n",
       "    </tr>\n",
       "  </thead>\n",
       "  <tbody>\n",
       "    <tr>\n",
       "      <th>0</th>\n",
       "      <td>Sezen psikoloji bozar sefoyla devam</td>\n",
       "    </tr>\n",
       "    <tr>\n",
       "      <th>1</th>\n",
       "      <td>Psikolojisi bozuk mimarlık okuyan kız  psikolo...</td>\n",
       "    </tr>\n",
       "    <tr>\n",
       "      <th>2</th>\n",
       "      <td>Birine egosunu yanlış kullandığıyla alakalı bi...</td>\n",
       "    </tr>\n",
       "    <tr>\n",
       "      <th>2</th>\n",
       "      <td>Bana mahalle karıları gibi ne saçma laflar bi...</td>\n",
       "    </tr>\n",
       "    <tr>\n",
       "      <th>2</th>\n",
       "      <td>Gram psikoloji biliminden anlamayan ,cahil in...</td>\n",
       "    </tr>\n",
       "    <tr>\n",
       "      <th>...</th>\n",
       "      <td>...</td>\n",
       "    </tr>\n",
       "    <tr>\n",
       "      <th>13365</th>\n",
       "      <td>psikoloji yada psikiyatride farklı görüşler ö...</td>\n",
       "    </tr>\n",
       "    <tr>\n",
       "      <th>13365</th>\n",
       "      <td></td>\n",
       "    </tr>\n",
       "    <tr>\n",
       "      <th>13366</th>\n",
       "      <td>Toplum içine karışamazsın gündüz işlerini yapa...</td>\n",
       "    </tr>\n",
       "    <tr>\n",
       "      <th>13366</th>\n",
       "      <td>başka amaçlar için olsada 12 yasagı aslında mü...</td>\n",
       "    </tr>\n",
       "    <tr>\n",
       "      <th>13366</th>\n",
       "      <td></td>\n",
       "    </tr>\n",
       "  </tbody>\n",
       "</table>\n",
       "<p>32249 rows × 1 columns</p>\n",
       "</div>"
      ],
      "text/plain": [
       "                                                sentence\n",
       "0                    Sezen psikoloji bozar sefoyla devam\n",
       "1      Psikolojisi bozuk mimarlık okuyan kız  psikolo...\n",
       "2      Birine egosunu yanlış kullandığıyla alakalı bi...\n",
       "2       Bana mahalle karıları gibi ne saçma laflar bi...\n",
       "2       Gram psikoloji biliminden anlamayan ,cahil in...\n",
       "...                                                  ...\n",
       "13365   psikoloji yada psikiyatride farklı görüşler ö...\n",
       "13365                                                   \n",
       "13366  Toplum içine karışamazsın gündüz işlerini yapa...\n",
       "13366  başka amaçlar için olsada 12 yasagı aslında mü...\n",
       "13366                                                   \n",
       "\n",
       "[32249 rows x 1 columns]"
      ]
     },
     "execution_count": 7,
     "metadata": {},
     "output_type": "execute_result"
    }
   ],
   "source": [
    "df"
   ]
  },
  {
   "cell_type": "code",
   "execution_count": 8,
   "id": "bb8aff5a",
   "metadata": {},
   "outputs": [],
   "source": [
    "data_file2 = pd.read_excel('new_data1.xlsx')"
   ]
  },
  {
   "cell_type": "code",
   "execution_count": 9,
   "id": "ec73ca92",
   "metadata": {},
   "outputs": [],
   "source": [
    "# 'text' sütunundaki boşluk karakterlerini içeren satırları temizle\n",
    "data_file2['sentence'] = data_file2['sentence'].str.strip()"
   ]
  },
  {
   "cell_type": "code",
   "execution_count": 10,
   "id": "4ef22df5",
   "metadata": {},
   "outputs": [],
   "source": [
    "# Boş satırları ve tek kelime içeren satırları sil\n",
    "data_file2 = data_file2[data_file2['sentence'].apply(lambda x: len(str(x).split()) > 1)]"
   ]
  },
  {
   "cell_type": "code",
   "execution_count": 11,
   "id": "1bef5a77",
   "metadata": {},
   "outputs": [],
   "source": [
    "# Temizlenmiş DataFrame'i yeni bir Excel dosyasına yaz\n",
    "data_file2.to_excel('new_data2.xlsx', index=False)"
   ]
  },
  {
   "cell_type": "code",
   "execution_count": 12,
   "id": "d9937909",
   "metadata": {},
   "outputs": [
    {
     "data": {
      "text/html": [
       "<div>\n",
       "<style scoped>\n",
       "    .dataframe tbody tr th:only-of-type {\n",
       "        vertical-align: middle;\n",
       "    }\n",
       "\n",
       "    .dataframe tbody tr th {\n",
       "        vertical-align: top;\n",
       "    }\n",
       "\n",
       "    .dataframe thead th {\n",
       "        text-align: right;\n",
       "    }\n",
       "</style>\n",
       "<table border=\"1\" class=\"dataframe\">\n",
       "  <thead>\n",
       "    <tr style=\"text-align: right;\">\n",
       "      <th></th>\n",
       "      <th>sentence</th>\n",
       "    </tr>\n",
       "  </thead>\n",
       "  <tbody>\n",
       "    <tr>\n",
       "      <th>0</th>\n",
       "      <td>Sezen psikoloji bozar sefoyla devam</td>\n",
       "    </tr>\n",
       "    <tr>\n",
       "      <th>1</th>\n",
       "      <td>Psikolojisi bozuk mimarlık okuyan kız  psikolo...</td>\n",
       "    </tr>\n",
       "    <tr>\n",
       "      <th>2</th>\n",
       "      <td>Birine egosunu yanlış kullandığıyla alakalı bi...</td>\n",
       "    </tr>\n",
       "    <tr>\n",
       "      <th>3</th>\n",
       "      <td>Bana mahalle karıları gibi ne saçma laflar bir...</td>\n",
       "    </tr>\n",
       "    <tr>\n",
       "      <th>4</th>\n",
       "      <td>Gram psikoloji biliminden anlamayan ,cahil ins...</td>\n",
       "    </tr>\n",
       "    <tr>\n",
       "      <th>...</th>\n",
       "      <td>...</td>\n",
       "    </tr>\n",
       "    <tr>\n",
       "      <th>32241</th>\n",
       "      <td>şeklinde belirtmiş</td>\n",
       "    </tr>\n",
       "    <tr>\n",
       "      <th>32242</th>\n",
       "      <td>bu da bir yaklaşım</td>\n",
       "    </tr>\n",
       "    <tr>\n",
       "      <th>32244</th>\n",
       "      <td>psikoloji yada psikiyatride farklı görüşler ön...</td>\n",
       "    </tr>\n",
       "    <tr>\n",
       "      <th>32246</th>\n",
       "      <td>Toplum içine karışamazsın gündüz işlerini yapa...</td>\n",
       "    </tr>\n",
       "    <tr>\n",
       "      <th>32247</th>\n",
       "      <td>başka amaçlar için olsada 12 yasagı aslında mü...</td>\n",
       "    </tr>\n",
       "  </tbody>\n",
       "</table>\n",
       "<p>23880 rows × 1 columns</p>\n",
       "</div>"
      ],
      "text/plain": [
       "                                                sentence\n",
       "0                    Sezen psikoloji bozar sefoyla devam\n",
       "1      Psikolojisi bozuk mimarlık okuyan kız  psikolo...\n",
       "2      Birine egosunu yanlış kullandığıyla alakalı bi...\n",
       "3      Bana mahalle karıları gibi ne saçma laflar bir...\n",
       "4      Gram psikoloji biliminden anlamayan ,cahil ins...\n",
       "...                                                  ...\n",
       "32241                                 şeklinde belirtmiş\n",
       "32242                                 bu da bir yaklaşım\n",
       "32244  psikoloji yada psikiyatride farklı görüşler ön...\n",
       "32246  Toplum içine karışamazsın gündüz işlerini yapa...\n",
       "32247  başka amaçlar için olsada 12 yasagı aslında mü...\n",
       "\n",
       "[23880 rows x 1 columns]"
      ]
     },
     "execution_count": 12,
     "metadata": {},
     "output_type": "execute_result"
    }
   ],
   "source": [
    "data_file2"
   ]
  },
  {
   "cell_type": "code",
   "execution_count": 13,
   "id": "71cf3952",
   "metadata": {},
   "outputs": [],
   "source": [
    "data_file3 = pd.read_excel('new_data2.xlsx')"
   ]
  },
  {
   "cell_type": "code",
   "execution_count": 14,
   "id": "f68cebd0",
   "metadata": {},
   "outputs": [],
   "source": [
    "# tüm verileri küçük harfe çevir\n",
    "data_file3['sentence'] = data_file3['sentence'].str.lower()"
   ]
  },
  {
   "cell_type": "code",
   "execution_count": 15,
   "id": "0132d043",
   "metadata": {},
   "outputs": [],
   "source": [
    "def remove_digits(text):\n",
    "    if isinstance(text, str):  # Eğer değer bir string ise işlem yap\n",
    "        return re.sub(r'\\d+', '', text)\n",
    "    else:\n",
    "        return text  # Eğer değer string değilse aynı değeri geri döndür"
   ]
  },
  {
   "cell_type": "code",
   "execution_count": 16,
   "id": "33b6f694",
   "metadata": {},
   "outputs": [],
   "source": [
    "# nümerik ifadeleri sil\n",
    "data_file3['sentence'] = data_file3['sentence'].apply(remove_digits)"
   ]
  },
  {
   "cell_type": "code",
   "execution_count": 17,
   "id": "1a5c98e1",
   "metadata": {},
   "outputs": [],
   "source": [
    "def remove_digits2(text):\n",
    "    if isinstance(text, str):  # Eğer değer bir string ise işlem yap\n",
    "        return re.sub(r'[^\\w\\s]', '', text)\n",
    "    else:\n",
    "        return text  # Eğer değer string değilse aynı değeri geri döndür"
   ]
  },
  {
   "cell_type": "code",
   "execution_count": 18,
   "id": "ebaa764f",
   "metadata": {},
   "outputs": [],
   "source": [
    "# Özel karakterleri ve noktalama işaretlerini kaldırma\n",
    "data_file3['sentence'] = data_file3['sentence'].apply(remove_digits2)"
   ]
  },
  {
   "cell_type": "code",
   "execution_count": 19,
   "id": "11bbc45c",
   "metadata": {},
   "outputs": [],
   "source": [
    "def remove_digits3(text):\n",
    "    if isinstance(text, str):  # Eğer değer bir string ise işlem yap\n",
    "        return re.sub(r'[^\\w\\s]', '', text)\n",
    "    else:\n",
    "        return text  # Eğer değer string değilse aynı değeri geri döndür"
   ]
  },
  {
   "cell_type": "code",
   "execution_count": 20,
   "id": "90bf2947",
   "metadata": {},
   "outputs": [],
   "source": [
    "# Özel karakterleri ve noktalama işaretlerini kaldırma\n",
    "data_file3['sentence'] = data_file3['sentence'].apply(remove_digits3)"
   ]
  },
  {
   "cell_type": "code",
   "execution_count": 21,
   "id": "569108fb",
   "metadata": {},
   "outputs": [
    {
     "name": "stderr",
     "output_type": "stream",
     "text": [
      "[nltk_data] Downloading package stopwords to\n",
      "[nltk_data]     C:\\Users\\aysei\\AppData\\Roaming\\nltk_data...\n",
      "[nltk_data]   Package stopwords is already up-to-date!\n"
     ]
    }
   ],
   "source": [
    "data_file3['sentence'] = data_file3['sentence'].astype(str)  # Tüm değerleri string türüne dönüştür\n",
    "# Gereksiz kelimeleri (stopwords) kaldırma\n",
    "nltk.download('stopwords')  # Eğer stopwords henüz indirilmediyse\n",
    "stop_words = set(stopwords.words('turkish'))  # Türkçe stopwords listesi\n",
    "data_file3['sentence'] = data_file3['sentence'].apply(lambda x: ' '.join([word for word in x.split() if word not in stop_words]))"
   ]
  },
  {
   "cell_type": "code",
   "execution_count": 22,
   "id": "63191746",
   "metadata": {},
   "outputs": [],
   "source": [
    "# Temizlenmiş DataFrame'i yeni bir Excel dosyasına yazma\n",
    "data_file3.to_excel('new_data3.xlsx', index=False)"
   ]
  },
  {
   "cell_type": "code",
   "execution_count": 23,
   "id": "11b09020",
   "metadata": {},
   "outputs": [
    {
     "data": {
      "text/html": [
       "<div>\n",
       "<style scoped>\n",
       "    .dataframe tbody tr th:only-of-type {\n",
       "        vertical-align: middle;\n",
       "    }\n",
       "\n",
       "    .dataframe tbody tr th {\n",
       "        vertical-align: top;\n",
       "    }\n",
       "\n",
       "    .dataframe thead th {\n",
       "        text-align: right;\n",
       "    }\n",
       "</style>\n",
       "<table border=\"1\" class=\"dataframe\">\n",
       "  <thead>\n",
       "    <tr style=\"text-align: right;\">\n",
       "      <th></th>\n",
       "      <th>sentence</th>\n",
       "    </tr>\n",
       "  </thead>\n",
       "  <tbody>\n",
       "    <tr>\n",
       "      <th>0</th>\n",
       "      <td>sezen psikoloji bozar sefoyla devam</td>\n",
       "    </tr>\n",
       "    <tr>\n",
       "      <th>1</th>\n",
       "      <td>psikolojisi bozuk mimarlık okuyan kız psikoloj...</td>\n",
       "    </tr>\n",
       "    <tr>\n",
       "      <th>2</th>\n",
       "      <td>birine egosunu yanlış kullandığıyla alakalı bi...</td>\n",
       "    </tr>\n",
       "    <tr>\n",
       "      <th>3</th>\n",
       "      <td>bana mahalle karıları saçma laflar görse falan...</td>\n",
       "    </tr>\n",
       "    <tr>\n",
       "      <th>4</th>\n",
       "      <td>gram psikoloji biliminden anlamayan cahil insa...</td>\n",
       "    </tr>\n",
       "    <tr>\n",
       "      <th>...</th>\n",
       "      <td>...</td>\n",
       "    </tr>\n",
       "    <tr>\n",
       "      <th>23875</th>\n",
       "      <td>şeklinde belirtmiş</td>\n",
       "    </tr>\n",
       "    <tr>\n",
       "      <th>23876</th>\n",
       "      <td>bir yaklaşım</td>\n",
       "    </tr>\n",
       "    <tr>\n",
       "      <th>23877</th>\n",
       "      <td>psikoloji yada psikiyatride farklı görüşler ön...</td>\n",
       "    </tr>\n",
       "    <tr>\n",
       "      <th>23878</th>\n",
       "      <td>toplum içine karışamazsın gündüz işlerini yapa...</td>\n",
       "    </tr>\n",
       "    <tr>\n",
       "      <th>23879</th>\n",
       "      <td>başka amaçlar olsada yasagı müzisyenler hüküme...</td>\n",
       "    </tr>\n",
       "  </tbody>\n",
       "</table>\n",
       "<p>23880 rows × 1 columns</p>\n",
       "</div>"
      ],
      "text/plain": [
       "                                                sentence\n",
       "0                    sezen psikoloji bozar sefoyla devam\n",
       "1      psikolojisi bozuk mimarlık okuyan kız psikoloj...\n",
       "2      birine egosunu yanlış kullandığıyla alakalı bi...\n",
       "3      bana mahalle karıları saçma laflar görse falan...\n",
       "4      gram psikoloji biliminden anlamayan cahil insa...\n",
       "...                                                  ...\n",
       "23875                                 şeklinde belirtmiş\n",
       "23876                                       bir yaklaşım\n",
       "23877  psikoloji yada psikiyatride farklı görüşler ön...\n",
       "23878  toplum içine karışamazsın gündüz işlerini yapa...\n",
       "23879  başka amaçlar olsada yasagı müzisyenler hüküme...\n",
       "\n",
       "[23880 rows x 1 columns]"
      ]
     },
     "execution_count": 23,
     "metadata": {},
     "output_type": "execute_result"
    }
   ],
   "source": [
    "data_file3"
   ]
  },
  {
   "cell_type": "code",
   "execution_count": 24,
   "id": "b780b5dc",
   "metadata": {},
   "outputs": [],
   "source": [
    "data_file4 = pd.read_excel('new_data3.xlsx')"
   ]
  },
  {
   "cell_type": "code",
   "execution_count": 25,
   "id": "40f2d6c6",
   "metadata": {},
   "outputs": [],
   "source": [
    "def check_keywords(x):\n",
    "    if pd.isna(x):\n",
    "        return False\n",
    "    return any(keyword.lower() in x.lower() for keyword in anahtar_kelimeler)"
   ]
  },
  {
   "cell_type": "code",
   "execution_count": 26,
   "id": "93340052",
   "metadata": {},
   "outputs": [],
   "source": [
    "anahtar_kelimeler = ['psikoloji', 'ruh sağlığı', 'zihinsel sağlık', 'duygusal durum', 'psikolojik durum', 'psikolojik sağlık', 'stres', 'anksiyete', 'depresyon']\n",
    "df_psikoloji = data_file4[data_file4['sentence'].apply(check_keywords)]"
   ]
  },
  {
   "cell_type": "code",
   "execution_count": 27,
   "id": "59df84ec",
   "metadata": {},
   "outputs": [],
   "source": [
    "# Temizlenmiş DataFrame'i yeni bir Excel dosyasına yazma\n",
    "df_psikoloji.to_excel('new_data4.xlsx', index=False)"
   ]
  },
  {
   "cell_type": "code",
   "execution_count": 28,
   "id": "216822ad",
   "metadata": {},
   "outputs": [
    {
     "data": {
      "text/html": [
       "<div>\n",
       "<style scoped>\n",
       "    .dataframe tbody tr th:only-of-type {\n",
       "        vertical-align: middle;\n",
       "    }\n",
       "\n",
       "    .dataframe tbody tr th {\n",
       "        vertical-align: top;\n",
       "    }\n",
       "\n",
       "    .dataframe thead th {\n",
       "        text-align: right;\n",
       "    }\n",
       "</style>\n",
       "<table border=\"1\" class=\"dataframe\">\n",
       "  <thead>\n",
       "    <tr style=\"text-align: right;\">\n",
       "      <th></th>\n",
       "      <th>sentence</th>\n",
       "    </tr>\n",
       "  </thead>\n",
       "  <tbody>\n",
       "    <tr>\n",
       "      <th>0</th>\n",
       "      <td>sezen psikoloji bozar sefoyla devam</td>\n",
       "    </tr>\n",
       "    <tr>\n",
       "      <th>1</th>\n",
       "      <td>psikolojisi bozuk mimarlık okuyan kız psikoloj...</td>\n",
       "    </tr>\n",
       "    <tr>\n",
       "      <th>4</th>\n",
       "      <td>gram psikoloji biliminden anlamayan cahil insa...</td>\n",
       "    </tr>\n",
       "    <tr>\n",
       "      <th>7</th>\n",
       "      <td>insanın doğasını küçümseyip dalga geçince egos...</td>\n",
       "    </tr>\n",
       "    <tr>\n",
       "      <th>9</th>\n",
       "      <td>psikoloji alanına bunun gireceksiniz girmeyin</td>\n",
       "    </tr>\n",
       "    <tr>\n",
       "      <th>...</th>\n",
       "      <td>...</td>\n",
       "    </tr>\n",
       "    <tr>\n",
       "      <th>23870</th>\n",
       "      <td>selam olsun size mehmetbaşkak klinikpsikolog p...</td>\n",
       "    </tr>\n",
       "    <tr>\n",
       "      <th>23871</th>\n",
       "      <td>kesinlikle acil hemen derhal devlet bedava psi...</td>\n",
       "    </tr>\n",
       "    <tr>\n",
       "      <th>23873</th>\n",
       "      <td>comformsdef anket araştırma psikoloji</td>\n",
       "    </tr>\n",
       "    <tr>\n",
       "      <th>23877</th>\n",
       "      <td>psikoloji yada psikiyatride farklı görüşler ön...</td>\n",
       "    </tr>\n",
       "    <tr>\n",
       "      <th>23878</th>\n",
       "      <td>toplum içine karışamazsın gündüz işlerini yapa...</td>\n",
       "    </tr>\n",
       "  </tbody>\n",
       "</table>\n",
       "<p>11438 rows × 1 columns</p>\n",
       "</div>"
      ],
      "text/plain": [
       "                                                sentence\n",
       "0                    sezen psikoloji bozar sefoyla devam\n",
       "1      psikolojisi bozuk mimarlık okuyan kız psikoloj...\n",
       "4      gram psikoloji biliminden anlamayan cahil insa...\n",
       "7      insanın doğasını küçümseyip dalga geçince egos...\n",
       "9          psikoloji alanına bunun gireceksiniz girmeyin\n",
       "...                                                  ...\n",
       "23870  selam olsun size mehmetbaşkak klinikpsikolog p...\n",
       "23871  kesinlikle acil hemen derhal devlet bedava psi...\n",
       "23873              comformsdef anket araştırma psikoloji\n",
       "23877  psikoloji yada psikiyatride farklı görüşler ön...\n",
       "23878  toplum içine karışamazsın gündüz işlerini yapa...\n",
       "\n",
       "[11438 rows x 1 columns]"
      ]
     },
     "execution_count": 28,
     "metadata": {},
     "output_type": "execute_result"
    }
   ],
   "source": [
    "df_psikoloji"
   ]
  },
  {
   "cell_type": "code",
   "execution_count": 29,
   "id": "9ee0cede",
   "metadata": {},
   "outputs": [],
   "source": [
    "data_file5 = pd.read_excel('new_data4.xlsx')"
   ]
  },
  {
   "cell_type": "code",
   "execution_count": 30,
   "id": "475e1402",
   "metadata": {},
   "outputs": [],
   "source": [
    "# Boş satırları sil\n",
    "data_file5 = data_file5.dropna(subset=['sentence'])"
   ]
  },
  {
   "cell_type": "code",
   "execution_count": 31,
   "id": "1560967d",
   "metadata": {},
   "outputs": [],
   "source": [
    "# Bir kelimeden oluşan satırları sil\n",
    "data_file5 = data_file5[data_file5['sentence'].apply(lambda x: len(str(x).split()) > 1)]"
   ]
  },
  {
   "cell_type": "code",
   "execution_count": 32,
   "id": "86720d1a",
   "metadata": {},
   "outputs": [],
   "source": [
    "# 'sentence' sütunu bazında tekrarlayan satırları sil\n",
    "data_file5 = data_file5.drop_duplicates(subset=['sentence'], keep='first')\n",
    "data_file5['sentence'] = data_file5['sentence'].str.replace('_', '', regex=True)"
   ]
  },
  {
   "cell_type": "code",
   "execution_count": 33,
   "id": "810c4fe9",
   "metadata": {},
   "outputs": [],
   "source": [
    "#dosyadaki yabancı karakterleri temizle\n",
    "def temizle(text):\n",
    "    emoji_pattern = re.compile(\"[\"\n",
    "                               u\"\\U0001F600-\\U0001F64F\"  # Emoticons\n",
    "                              u\"\\U0001F300-\\U0001F5FF\"  # Simge ve semboller\n",
    "                               u\"\\U0001F680-\\U0001F6FF\"  # Transport ve simgeler\n",
    "                               u\"\\U0001F1E0-\\U0001F1FF\"  # Bayraklar (iOS)\n",
    "                               u\"\\U00002702-\\U000027B0\"\n",
    "                               u\"\\U000024C2-\\U0001F251\"\n",
    "                               \"]+\", flags=re.UNICODE)\n",
    "    return emoji_pattern.sub(r'', text)\n",
    "\n",
    "# Verilerdeki emoji karakterlerini temizleme\n",
    "data_file5['sentence'] = data_file5['sentence'].apply(lambda x: temizle(x) if isinstance(x, str) else x)"
   ]
  },
  {
   "cell_type": "code",
   "execution_count": 34,
   "id": "60168ac9",
   "metadata": {},
   "outputs": [],
   "source": [
    "# Temizlenmiş DataFrame'i yeni bir Excel dosyasına yazma\n",
    "data_file5.to_excel('final_data_file.xlsx', index=False)"
   ]
  },
  {
   "cell_type": "code",
   "execution_count": 35,
   "id": "94690040",
   "metadata": {},
   "outputs": [
    {
     "data": {
      "text/html": [
       "<div>\n",
       "<style scoped>\n",
       "    .dataframe tbody tr th:only-of-type {\n",
       "        vertical-align: middle;\n",
       "    }\n",
       "\n",
       "    .dataframe tbody tr th {\n",
       "        vertical-align: top;\n",
       "    }\n",
       "\n",
       "    .dataframe thead th {\n",
       "        text-align: right;\n",
       "    }\n",
       "</style>\n",
       "<table border=\"1\" class=\"dataframe\">\n",
       "  <thead>\n",
       "    <tr style=\"text-align: right;\">\n",
       "      <th></th>\n",
       "      <th>sentence</th>\n",
       "    </tr>\n",
       "  </thead>\n",
       "  <tbody>\n",
       "    <tr>\n",
       "      <th>0</th>\n",
       "      <td>sezen psikoloji bozar sefoyla devam</td>\n",
       "    </tr>\n",
       "    <tr>\n",
       "      <th>1</th>\n",
       "      <td>psikolojisi bozuk mimarlık okuyan kız psikoloj...</td>\n",
       "    </tr>\n",
       "    <tr>\n",
       "      <th>2</th>\n",
       "      <td>gram psikoloji biliminden anlamayan cahil insa...</td>\n",
       "    </tr>\n",
       "    <tr>\n",
       "      <th>3</th>\n",
       "      <td>insanın doğasını küçümseyip dalga geçince egos...</td>\n",
       "    </tr>\n",
       "    <tr>\n",
       "      <th>4</th>\n",
       "      <td>psikoloji alanına bunun gireceksiniz girmeyin</td>\n",
       "    </tr>\n",
       "    <tr>\n",
       "      <th>...</th>\n",
       "      <td>...</td>\n",
       "    </tr>\n",
       "    <tr>\n",
       "      <th>11433</th>\n",
       "      <td>selam olsun size mehmetbaşkak klinikpsikolog p...</td>\n",
       "    </tr>\n",
       "    <tr>\n",
       "      <th>11434</th>\n",
       "      <td>kesinlikle acil hemen derhal devlet bedava psi...</td>\n",
       "    </tr>\n",
       "    <tr>\n",
       "      <th>11435</th>\n",
       "      <td>comformsdef anket araştırma psikoloji</td>\n",
       "    </tr>\n",
       "    <tr>\n",
       "      <th>11436</th>\n",
       "      <td>psikoloji yada psikiyatride farklı görüşler ön...</td>\n",
       "    </tr>\n",
       "    <tr>\n",
       "      <th>11437</th>\n",
       "      <td>toplum içine karışamazsın gündüz işlerini yapa...</td>\n",
       "    </tr>\n",
       "  </tbody>\n",
       "</table>\n",
       "<p>10858 rows × 1 columns</p>\n",
       "</div>"
      ],
      "text/plain": [
       "                                                sentence\n",
       "0                    sezen psikoloji bozar sefoyla devam\n",
       "1      psikolojisi bozuk mimarlık okuyan kız psikoloj...\n",
       "2      gram psikoloji biliminden anlamayan cahil insa...\n",
       "3      insanın doğasını küçümseyip dalga geçince egos...\n",
       "4          psikoloji alanına bunun gireceksiniz girmeyin\n",
       "...                                                  ...\n",
       "11433  selam olsun size mehmetbaşkak klinikpsikolog p...\n",
       "11434  kesinlikle acil hemen derhal devlet bedava psi...\n",
       "11435              comformsdef anket araştırma psikoloji\n",
       "11436  psikoloji yada psikiyatride farklı görüşler ön...\n",
       "11437  toplum içine karışamazsın gündüz işlerini yapa...\n",
       "\n",
       "[10858 rows x 1 columns]"
      ]
     },
     "execution_count": 35,
     "metadata": {},
     "output_type": "execute_result"
    }
   ],
   "source": [
    "data_file5"
   ]
  }
 ],
 "metadata": {
  "kernelspec": {
   "display_name": "Python 3 (ipykernel)",
   "language": "python",
   "name": "python3"
  },
  "language_info": {
   "codemirror_mode": {
    "name": "ipython",
    "version": 3
   },
   "file_extension": ".py",
   "mimetype": "text/x-python",
   "name": "python",
   "nbconvert_exporter": "python",
   "pygments_lexer": "ipython3",
   "version": "3.7.16"
  }
 },
 "nbformat": 4,
 "nbformat_minor": 5
}
